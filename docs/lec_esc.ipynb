{
 "cells": [
  {
   "cell_type": "markdown",
   "metadata": {
    "pycharm": {
     "name": "#%% md\n"
    }
   },
   "source": [
    "# Modulo de lectura y escritura\n",
    "### lec_esc.py"
   ]
  },
  {
   "cell_type": "markdown",
   "metadata": {
    "pycharm": {
     "name": "#%% md\n"
    }
   },
   "source": [
    "# Resumen\n",
    "En este módulo se visualizaran los algoritmos de entrada y salida.\n",
    "\n",
    "## `escribir_df`\n",
    "\n",
    "### Descripcion\n",
    "Dado un fichero file, un separador para las columnas sep y si estan los encabezados de las columnas en la primera fila, devuelve un dataframe con la información del fichero\n",
    "\n",
    "### Parametros\n",
    "        file: Fichero de entrada.\n",
    "        sep: Separador de las columnas en el fichero de entrada.\n",
    "        header: Si existe en la primera fila del fichero los titulos de las columnas.\n",
    "\n",
    "### Devolver\n",
    "Un dataframe con los datos del fichero.\n",
    "\n",
    "### Ejemplos"
   ]
  },
  {
   "cell_type": "code",
   "execution_count": 3,
   "outputs": [],
   "source": [
    "from entregapack import lec_esc as le\n",
    "\n",
    "df = le.escribir_df(\"../entregapack/prueba.txt\", sep=',', header=True)"
   ],
   "metadata": {
    "collapsed": false,
    "pycharm": {
     "name": "#%%\n"
    }
   }
  },
  {
   "cell_type": "markdown",
   "metadata": {
    "pycharm": {
     "name": "#%% md\n"
    }
   },
   "source": [
    "## `leer_fichero`\n",
    "\n",
    "### Descripcion\n",
    "Dado un dataframe, df, el nombre de un fichero file, un separador sep y si se quiere que se incluyan el nombre de las columnas en el fichero de salida. Crea un fichero con el nombre file y la información del dataframe df.\n",
    "\n",
    "### Parametros\n",
    "        df: dataframe de entrada para escribir en el fichero.\n",
    "        file: Fichero de salida.\n",
    "        sep: Separador de las columnas en el fichero.\n",
    "        header: Si se añaden los titulos del daframe en el fichero de salida.\n",
    "\n",
    "### Ejemplos"
   ]
  },
  {
   "cell_type": "code",
   "execution_count": 4,
   "outputs": [],
   "source": [
    "from entregapack import lec_esc as le\n",
    "\n",
    "le.leer_fichero(df=df, file=\"prueba1.txt\", sep=',', header=True)\n"
   ],
   "metadata": {
    "collapsed": false,
    "pycharm": {
     "name": "#%%\n"
    }
   }
  }
 ],
 "metadata": {
  "kernelspec": {
   "display_name": "Python 3 (ipykernel)",
   "language": "python",
   "name": "python3"
  },
  "language_info": {
   "codemirror_mode": {
    "name": "ipython",
    "version": 3
   },
   "file_extension": ".py",
   "mimetype": "text/x-python",
   "name": "python",
   "nbconvert_exporter": "python",
   "pygments_lexer": "ipython3",
   "version": "3.8.10"
  }
 },
 "nbformat": 4,
 "nbformat_minor": 2
}