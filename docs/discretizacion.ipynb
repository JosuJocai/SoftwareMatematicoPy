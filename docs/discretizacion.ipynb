{
 "cells": [
  {
   "cell_type": "markdown",
   "metadata": {
    "pycharm": {
     "name": "#%% md\n"
    }
   },
   "source": [
    "# Modulo de discretizacion\n",
    "### discretizacion.py"
   ]
  },
  {
   "cell_type": "markdown",
   "metadata": {
    "pycharm": {
     "name": "#%% md\n"
    }
   },
   "source": [
    "## Resumen\n",
    "\n",
    "En este modulo se visualizan los algoritmos de discretización pertinentes.\n",
    "\n",
    "### `discretizacion_general`\n",
    "\n",
    "#### Descripción\n",
    "Discretiza un data frame o un vector por diferentes metodos comentados debajo en el apartado de parámetros.\n",
    "\n",
    "#### Parámetros\n",
    "        df: data frame o vector a discretizar\n",
    "        num: numero de intervalos\n",
    "        method: metodo de discretizacion, \"frecuency\" (equal frecuency) o \"width\" (equal width).\n",
    "#### Ejemplos"
   ]
  },
  {
   "cell_type": "code",
   "execution_count": 10,
   "metadata": {
    "pycharm": {
     "name": "#%%\n"
    }
   },
   "outputs": [],
   "source": [
    "import pandas as pd\n",
    "import numpy as np\n",
    "from entregapack import discretizacion as dis\n",
    "\n",
    "df7 = pd.DataFrame({'c1': [43, 54, 69, 1, 3, 10],\n",
    "                'c2': [70, 89, 15, 37, 39, 84],\n",
    "                'c3': [22, 35, 67, 51, 9, 11],\n",
    "                'c4': [3, 7, 96, 7, 96, 45]})\n",
    "a = str(type(df7))\n",
    "discre = dis.discretize_general(df7, 3, \"frecuency\")\n",
    "\n",
    "v1 = [46, 3, 6, 72, 45, 92, 22]\n",
    "discre_v = dis.discretize_general(v1, 3, \"width\")"
   ]
  }
 ],
 "metadata": {
  "kernelspec": {
   "display_name": "Python 3 (ipykernel)",
   "language": "python",
   "name": "python3"
  },
  "language_info": {
   "codemirror_mode": {
    "name": "ipython",
    "version": 3
   },
   "file_extension": ".py",
   "mimetype": "text/x-python",
   "name": "python",
   "nbconvert_exporter": "python",
   "pygments_lexer": "ipython3",
   "version": "3.8.10"
  }
 },
 "nbformat": 4,
 "nbformat_minor": 2
}