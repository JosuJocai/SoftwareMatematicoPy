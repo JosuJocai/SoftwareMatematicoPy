{
 "cells": [
  {
   "cell_type": "markdown",
   "metadata": {
    "pycharm": {
     "name": "#%% md\n"
    }
   },
   "source": [
    "# Modulo de métricas\n",
    "### metricas.py"
   ]
  },
  {
   "cell_type": "markdown",
   "metadata": {
    "pycharm": {
     "name": "#%% md\n"
    }
   },
   "source": [
    "# Resumen\n",
    "\n",
    "En otro fichero, llamado `metricas.py`, recogeremos funciones para el cálculo de métricas de un dataset como la varianza, AUC, y la entropía. Además de esto se añaden funciones para el cálculo de correlación e información mutua. Por último, también se añaden plots para el AUC.\n",
    "\n",
    "## `ROCcalc`\n",
    "\n",
    "### Descripción\n",
    "Dado un fichero file, un separador para las columnas sep y si estan los encabezados de las columnas en la primera fila, devuelve un dataframe con la información del fichero\n",
    "\n",
    "### Parámetros\n",
    "    df: dataframe de dos columnas, siendo la segunda de ellas un vector logico\n",
    "### Devuelve\n",
    "Un dataframe con los TPR y los FPR.\n",
    "\n",
    "## `ROC`\n",
    "\n",
    "### Descripción\n",
    "Dado un dataframe devuelve el area bajo la curva ROC que se genera.\n",
    "### Parámetros\n",
    "    df: Un dataframe de dos columnas siendo la segunda de ellas un vector logico.\n",
    "### Devuelve\n",
    "El area bajo la cuerva ROC.\n",
    "### Ejemplos"
   ]
  },
  {
   "cell_type": "code",
   "execution_count": 3,
   "outputs": [],
   "source": [
    "from entregapack import metricas as met\n",
    "import numpy as np\n",
    "import pandas as pd\n",
    "\n",
    "sample_arr = [True, False]\n",
    "bool_arr = np.random.choice(sample_arr, size=100)\n",
    "a = list(range(1,101))\n",
    "df = pd.DataFrame({'Nombre' : a,\n",
    "                    'Bool' : bool_arr}, columns=['Nombre', 'Bool'])\n",
    "area = met.ROC(df)"
   ],
   "metadata": {
    "collapsed": false,
    "pycharm": {
     "name": "#%%\n"
    }
   }
  },
  {
   "cell_type": "markdown",
   "source": [
    "## `ROC_plot`\n",
    "\n",
    "### Descripción\n",
    "Dado un dataframe muestra la curva ROC que se genera.\n",
    "### Parámetros\n",
    "    df: dataframe que contiene el TPR y el FPR\n",
    "\n",
    "### Ejemplos"
   ],
   "metadata": {
    "collapsed": false,
    "pycharm": {
     "name": "#%% md\n"
    }
   }
  },
  {
   "cell_type": "code",
   "execution_count": null,
   "outputs": [],
   "source": [
    "met.ROC_plot(df)"
   ],
   "metadata": {
    "collapsed": false,
    "pycharm": {
     "name": "#%%\n",
     "is_executing": true
    }
   }
  },
  {
   "cell_type": "markdown",
   "source": [
    "## `informacion_mutua`\n",
    "\n",
    "### Descripción\n",
    "Calcula la información mutua para dos vectores.\n",
    "\n",
    "### Parámetros\n",
    "        x: vector con valores discretos\n",
    "        y: vector con valores discretos\n",
    "\n",
    "### Devuelve\n",
    "La informacion mutua entre x e y.\n",
    "\n",
    "### Ejemplos"
   ],
   "metadata": {
    "collapsed": false,
    "pycharm": {
     "name": "#%% md\n"
    }
   },
   "outputs": []
  },
  {
   "cell_type": "code",
   "execution_count": 5,
   "outputs": [
    {
     "data": {
      "text/plain": "1.584962500721156"
     },
     "execution_count": 5,
     "metadata": {},
     "output_type": "execute_result"
    }
   ],
   "source": [
    "c1 = ['casa', 'coche', 'autobus']\n",
    "c2 = ['extintor', 'avion', 'gasolinera']\n",
    "met.informacion_mutua(c1, c2)"
   ],
   "metadata": {
    "collapsed": false,
    "pycharm": {
     "name": "#%%\n"
    }
   }
  },
  {
   "cell_type": "markdown",
   "source": [
    "\n",
    "## `informacion_mutua_df`\n",
    "\n",
    "### Descripción\n",
    "Calcula la información mutua entre todas las columnas del dataframe y las devuelve en un dataframe.\n",
    "### Parámetros\n",
    "df: Un dataframe con valores discretos.\n",
    "### Devuelve\n",
    "Un data frame con la informacion mutua.\n",
    "### Ejemplos"
   ],
   "metadata": {
    "collapsed": false,
    "pycharm": {
     "name": "#%% md\n"
    }
   }
  },
  {
   "cell_type": "code",
   "execution_count": 6,
   "outputs": [
    {
     "data": {
      "text/plain": "      frase    letras     logic       num\n0  2.000000  1.500000  1.018797  1.000000\n1  1.500000  2.000000  0.811278  1.500000\n2  1.018797  0.811278  1.433834  0.311278\n3  1.000000  1.500000  0.311278  2.000000",
      "text/html": "<div>\n<style scoped>\n    .dataframe tbody tr th:only-of-type {\n        vertical-align: middle;\n    }\n\n    .dataframe tbody tr th {\n        vertical-align: top;\n    }\n\n    .dataframe thead th {\n        text-align: right;\n    }\n</style>\n<table border=\"1\" class=\"dataframe\">\n  <thead>\n    <tr style=\"text-align: right;\">\n      <th></th>\n      <th>frase</th>\n      <th>letras</th>\n      <th>logic</th>\n      <th>num</th>\n    </tr>\n  </thead>\n  <tbody>\n    <tr>\n      <th>0</th>\n      <td>2.000000</td>\n      <td>1.500000</td>\n      <td>1.018797</td>\n      <td>1.000000</td>\n    </tr>\n    <tr>\n      <th>1</th>\n      <td>1.500000</td>\n      <td>2.000000</td>\n      <td>0.811278</td>\n      <td>1.500000</td>\n    </tr>\n    <tr>\n      <th>2</th>\n      <td>1.018797</td>\n      <td>0.811278</td>\n      <td>1.433834</td>\n      <td>0.311278</td>\n    </tr>\n    <tr>\n      <th>3</th>\n      <td>1.000000</td>\n      <td>1.500000</td>\n      <td>0.311278</td>\n      <td>2.000000</td>\n    </tr>\n  </tbody>\n</table>\n</div>"
     },
     "execution_count": 6,
     "metadata": {},
     "output_type": "execute_result"
    }
   ],
   "source": [
    "df2 = pd.DataFrame({'frase': ['estas', 'como', 'no se', 'estas'],\n",
    "                'letras': ['a', 'b', 'c', 'd'],\n",
    "                'logic': [True, False, True, True],\n",
    "                'num': [3, 7, 96, 7]})\n",
    "met.informacion_mutua_df(df2)"
   ],
   "metadata": {
    "collapsed": false,
    "pycharm": {
     "name": "#%%\n"
    }
   }
  },
  {
   "cell_type": "markdown",
   "source": [
    "## `varianza`\n",
    "\n",
    "### Descripción\n",
    "Calcula la varianza de un vector.\n",
    "### Parámetros\n",
    "x: Un vector con valores numericos.\n",
    "### Devuelve\n",
    "La varianza de x.\n",
    "### Ejemplos"
   ],
   "metadata": {
    "collapsed": false,
    "pycharm": {
     "name": "#%% md\n"
    }
   }
  },
  {
   "cell_type": "code",
   "execution_count": 13,
   "outputs": [
    {
     "data": {
      "text/plain": "292.04541666666665"
     },
     "execution_count": 13,
     "metadata": {},
     "output_type": "execute_result"
    }
   ],
   "source": [
    "v = [1., 5.3, 8., 45., 23., 74.]\n",
    "met.varianza(v)"
   ],
   "metadata": {
    "collapsed": false,
    "pycharm": {
     "name": "#%%\n"
    }
   }
  },
  {
   "cell_type": "markdown",
   "source": [
    "## `varianza_df`\n",
    "\n",
    "### Descripción\n",
    "Calcula la varianza por columnas de un dataframe\n",
    "### Parámetros\n",
    "        df: Un dataframe con valores numericos\n",
    "### Devuelve\n",
    "La varianza por columnas del dataframe.\n",
    "### Ejemplos"
   ],
   "metadata": {
    "collapsed": false,
    "pycharm": {
     "name": "#%% md\n"
    }
   }
  },
  {
   "cell_type": "code",
   "execution_count": 8,
   "outputs": [
    {
     "data": {
      "text/plain": "0    454.921875\n1    279.171875\n2    985.500000\n3     66.921875\ndtype: float64"
     },
     "execution_count": 8,
     "metadata": {},
     "output_type": "execute_result"
    }
   ],
   "source": [
    "df1 = pd.DataFrame({'frase': [2,5,9,6],\n",
    "                     'letras': [56,45,78,23],\n",
    "                     'logic': [8,4,9,1],\n",
    "                     'num': [3, 7, 96, 7]})\n",
    "met.varianza_df(df1)"
   ],
   "metadata": {
    "collapsed": false,
    "pycharm": {
     "name": "#%%\n"
    }
   }
  },
  {
   "cell_type": "markdown",
   "source": [
    "## `correlacion_pearson`\n",
    "\n",
    "### Descripcion\n",
    "Calcula la correlacion de pearson para dos vectores.\n",
    "### Parámetros\n",
    "        x: vector con valores numericos.\n",
    "        y: vector con valores numericos.\n",
    "### Devuelve\n",
    "La correlación entre los dos vectores.\n",
    "\n",
    "### Ejemplos"
   ],
   "metadata": {
    "collapsed": false,
    "pycharm": {
     "name": "#%% md\n"
    }
   }
  },
  {
   "cell_type": "code",
   "execution_count": 14,
   "outputs": [
    {
     "ename": "TypeError",
     "evalue": "can't multiply sequence by non-int of type 'list'",
     "output_type": "error",
     "traceback": [
      "\u001B[0;31m---------------------------------------------------------------------------\u001B[0m",
      "\u001B[0;31mTypeError\u001B[0m                                 Traceback (most recent call last)",
      "\u001B[0;32m<ipython-input-14-29f5e6cb8556>\u001B[0m in \u001B[0;36m<module>\u001B[0;34m\u001B[0m\n\u001B[1;32m      1\u001B[0m \u001B[0mv1\u001B[0m \u001B[0;34m=\u001B[0m \u001B[0;34m[\u001B[0m\u001B[0;36m9.1\u001B[0m\u001B[0;34m,\u001B[0m \u001B[0;36m86.3\u001B[0m\u001B[0;34m,\u001B[0m \u001B[0;36m54.2\u001B[0m\u001B[0;34m,\u001B[0m \u001B[0;36m37.\u001B[0m\u001B[0;34m,\u001B[0m \u001B[0;36m13.\u001B[0m\u001B[0;34m,\u001B[0m \u001B[0;36m8.\u001B[0m\u001B[0;34m]\u001B[0m\u001B[0;34m\u001B[0m\u001B[0;34m\u001B[0m\u001B[0m\n\u001B[0;32m----> 2\u001B[0;31m \u001B[0mmet\u001B[0m\u001B[0;34m.\u001B[0m\u001B[0mcorrelacion_pearson\u001B[0m\u001B[0;34m(\u001B[0m\u001B[0mv\u001B[0m\u001B[0;34m,\u001B[0m \u001B[0mv1\u001B[0m\u001B[0;34m)\u001B[0m\u001B[0;34m\u001B[0m\u001B[0;34m\u001B[0m\u001B[0m\n\u001B[0m",
      "\u001B[0;32m~/Desktop/Python/entregapack/metricas.py\u001B[0m in \u001B[0;36mcorrelacion_pearson\u001B[0;34m(x, y)\u001B[0m\n\u001B[1;32m    222\u001B[0m         \u001B[0my\u001B[0m\u001B[0;34m:\u001B[0m \u001B[0mvector\u001B[0m \u001B[0mcon\u001B[0m \u001B[0mvalores\u001B[0m \u001B[0mnumericos\u001B[0m\u001B[0;34m.\u001B[0m\u001B[0;34m\u001B[0m\u001B[0;34m\u001B[0m\u001B[0m\n\u001B[1;32m    223\u001B[0m     \u001B[0mDevuelve\u001B[0m\u001B[0;34m:\u001B[0m\u001B[0;34m\u001B[0m\u001B[0;34m\u001B[0m\u001B[0m\n\u001B[0;32m--> 224\u001B[0;31m         \u001B[0mLa\u001B[0m \u001B[0mcorrelacion\u001B[0m \u001B[0mde\u001B[0m \u001B[0mpearson\u001B[0m \u001B[0mentre\u001B[0m \u001B[0mx\u001B[0m \u001B[0me\u001B[0m \u001B[0my\u001B[0m\u001B[0;34m.\u001B[0m\u001B[0;34m\u001B[0m\u001B[0;34m\u001B[0m\u001B[0m\n\u001B[0m\u001B[1;32m    225\u001B[0m         \"\"\"\n\u001B[1;32m    226\u001B[0m     \u001B[0mmedia_x\u001B[0m \u001B[0;34m=\u001B[0m \u001B[0mmean\u001B[0m\u001B[0;34m(\u001B[0m\u001B[0mx\u001B[0m\u001B[0;34m)\u001B[0m\u001B[0;34m\u001B[0m\u001B[0;34m\u001B[0m\u001B[0m\n",
      "\u001B[0;31mTypeError\u001B[0m: can't multiply sequence by non-int of type 'list'"
     ]
    }
   ],
   "source": [
    "v1 = [9.1, 86.3, 54.2, 37., 13., 8.]\n",
    "met.correlacion_pearson(v, v1)"
   ],
   "metadata": {
    "collapsed": false,
    "pycharm": {
     "name": "#%%\n"
    }
   }
  },
  {
   "cell_type": "markdown",
   "source": [
    "## `correlacion_pearson_df`\n",
    "\n",
    "### Descripcion\n",
    "Calcula la correlacion de pearson para un datafram\n",
    "### Parámetros\n",
    "        df: dataframe con valores numericos\n",
    "### Devuelve\n",
    "La correlación entre los vectores del dataframe.\n",
    "\n",
    "### Ejemplos"
   ],
   "metadata": {
    "collapsed": false,
    "pycharm": {
     "name": "#%% md\n"
    }
   }
  },
  {
   "cell_type": "code",
   "execution_count": 10,
   "outputs": [
    {
     "data": {
      "text/plain": "           frase    letras     logic       num\nfrase   1.010101  0.464207  0.088254  0.868201\nletras  0.464207  1.925926  1.858924  1.126195\nlogic   0.088254  1.858924  1.975904  0.878284\nnum     0.868201  1.126195  0.878284  1.079512",
      "text/html": "<div>\n<style scoped>\n    .dataframe tbody tr th:only-of-type {\n        vertical-align: middle;\n    }\n\n    .dataframe tbody tr th {\n        vertical-align: top;\n    }\n\n    .dataframe thead th {\n        text-align: right;\n    }\n</style>\n<table border=\"1\" class=\"dataframe\">\n  <thead>\n    <tr style=\"text-align: right;\">\n      <th></th>\n      <th>frase</th>\n      <th>letras</th>\n      <th>logic</th>\n      <th>num</th>\n    </tr>\n  </thead>\n  <tbody>\n    <tr>\n      <th>frase</th>\n      <td>1.010101</td>\n      <td>0.464207</td>\n      <td>0.088254</td>\n      <td>0.868201</td>\n    </tr>\n    <tr>\n      <th>letras</th>\n      <td>0.464207</td>\n      <td>1.925926</td>\n      <td>1.858924</td>\n      <td>1.126195</td>\n    </tr>\n    <tr>\n      <th>logic</th>\n      <td>0.088254</td>\n      <td>1.858924</td>\n      <td>1.975904</td>\n      <td>0.878284</td>\n    </tr>\n    <tr>\n      <th>num</th>\n      <td>0.868201</td>\n      <td>1.126195</td>\n      <td>0.878284</td>\n      <td>1.079512</td>\n    </tr>\n  </tbody>\n</table>\n</div>"
     },
     "execution_count": 10,
     "metadata": {},
     "output_type": "execute_result"
    }
   ],
   "source": [
    "met.correlacion_pearson_df(df1)"
   ],
   "metadata": {
    "collapsed": false,
    "pycharm": {
     "name": "#%%\n"
    }
   }
  },
  {
   "cell_type": "markdown",
   "source": [
    "## `normalize`\n",
    "\n",
    "### Descripcion\n",
    "Dado un vector lo normaliza\n",
    "### Parámetros\n",
    "        vec: vector a normalizar\n",
    "### Devuelve\n",
    "Un vector normalizado\n",
    "\n",
    "### Ejemplos"
   ],
   "metadata": {
    "collapsed": false,
    "pycharm": {
     "name": "#%% md\n"
    }
   }
  },
  {
   "cell_type": "code",
   "execution_count": null,
   "outputs": [],
   "source": [
    "met.normalize(v)"
   ],
   "metadata": {
    "collapsed": false,
    "pycharm": {
     "name": "#%%\n"
    }
   }
  },
  {
   "cell_type": "markdown",
   "source": [
    "## `normalize_df`\n",
    "\n",
    "### Descripcion\n",
    "Dado un dataframe lo normaliza las columnas\n",
    "### Parámetros\n",
    "        df: dataframe numerico a normalizar\n",
    "### Devuelve\n",
    "Un vector normalizado\n",
    "\n",
    "### Ejemplos"
   ],
   "metadata": {
    "collapsed": false,
    "pycharm": {
     "name": "#%% md\n"
    }
   }
  },
  {
   "cell_type": "code",
   "execution_count": null,
   "outputs": [],
   "source": [
    "met.normalize_df(df1)"
   ],
   "metadata": {
    "collapsed": false,
    "pycharm": {
     "name": "#%%\n"
    }
   }
  },
  {
   "cell_type": "markdown",
   "source": [
    "## `entropy`\n",
    "\n",
    "### Descripcion\n",
    "Dado un vector calcula su entropia\n",
    "### Parámetros\n",
    "        x: vector numerico\n",
    "### Devuelve\n",
    "La entropia del vector\n",
    "\n",
    "### Ejemplos"
   ],
   "metadata": {
    "collapsed": false,
    "pycharm": {
     "name": "#%% md\n"
    }
   }
  },
  {
   "cell_type": "code",
   "execution_count": null,
   "outputs": [],
   "source": [
    "met.entropy(v)"
   ],
   "metadata": {
    "collapsed": false,
    "pycharm": {
     "name": "#%%\n"
    }
   }
  },
  {
   "cell_type": "markdown",
   "source": [
    "## `entropy_df`\n",
    "\n",
    "### Descripcion\n",
    "Dado un dataframe calcula su entropia por columnas\n",
    "### Parámetros\n",
    "        df: dataframe numerico\n",
    "### Devuelve\n",
    "La entropía de las columnas del dataframe\n",
    "\n",
    "### Ejemplos"
   ],
   "metadata": {
    "collapsed": false,
    "pycharm": {
     "name": "#%% md\n"
    }
   }
  },
  {
   "cell_type": "code",
   "execution_count": null,
   "outputs": [],
   "source": [
    "met.entropy_df(df2)"
   ],
   "metadata": {
    "collapsed": false,
    "pycharm": {
     "name": "#%%\n"
    }
   }
  }
 ],
 "metadata": {
  "kernelspec": {
   "display_name": "Python 3 (ipykernel)",
   "language": "python",
   "name": "python3"
  },
  "language_info": {
   "codemirror_mode": {
    "name": "ipython",
    "version": 3
   },
   "file_extension": ".py",
   "mimetype": "text/x-python",
   "name": "python",
   "nbconvert_exporter": "python",
   "pygments_lexer": "ipython3",
   "version": "3.8.10"
  }
 },
 "nbformat": 4,
 "nbformat_minor": 2
}